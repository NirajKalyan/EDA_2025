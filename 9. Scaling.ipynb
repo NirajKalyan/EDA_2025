{
 "cells": [
  {
   "cell_type": "markdown",
   "id": "63cd9ca7-3355-4d03-8cbf-ef360e7999aa",
   "metadata": {},
   "source": [
    "## Import the Packages"
   ]
  },
  {
   "cell_type": "code",
   "execution_count": 3,
   "id": "f9597d45-e995-457f-bf11-486a8deaee12",
   "metadata": {},
   "outputs": [],
   "source": [
    "import numpy as np\n",
    "import pandas as pd\n",
    "import matplotlib.pyplot as plt\n",
    "import seaborn as sns"
   ]
  },
  {
   "cell_type": "code",
   "execution_count": null,
   "id": "4a439bfb-c987-483f-a168-1a3a26397cd8",
   "metadata": {},
   "outputs": [],
   "source": []
  },
  {
   "cell_type": "markdown",
   "id": "91c8f106-2910-499d-b61a-624865ce90c5",
   "metadata": {},
   "source": [
    "## Read the Data"
   ]
  },
  {
   "cell_type": "code",
   "execution_count": 8,
   "id": "83dc7d92-74ef-4e84-8d21-c88d5b6d0432",
   "metadata": {},
   "outputs": [
    {
     "data": {
      "text/html": [
       "<div>\n",
       "<style scoped>\n",
       "    .dataframe tbody tr th:only-of-type {\n",
       "        vertical-align: middle;\n",
       "    }\n",
       "\n",
       "    .dataframe tbody tr th {\n",
       "        vertical-align: top;\n",
       "    }\n",
       "\n",
       "    .dataframe thead th {\n",
       "        text-align: right;\n",
       "    }\n",
       "</style>\n",
       "<table border=\"1\" class=\"dataframe\">\n",
       "  <thead>\n",
       "    <tr style=\"text-align: right;\">\n",
       "      <th></th>\n",
       "      <th>case_id</th>\n",
       "      <th>continent</th>\n",
       "      <th>education_of_employee</th>\n",
       "      <th>has_job_experience</th>\n",
       "      <th>requires_job_training</th>\n",
       "      <th>no_of_employees</th>\n",
       "      <th>yr_of_estab</th>\n",
       "      <th>region_of_employment</th>\n",
       "      <th>prevailing_wage</th>\n",
       "      <th>unit_of_wage</th>\n",
       "      <th>full_time_position</th>\n",
       "      <th>case_status</th>\n",
       "    </tr>\n",
       "  </thead>\n",
       "  <tbody>\n",
       "    <tr>\n",
       "      <th>0</th>\n",
       "      <td>EZYV01</td>\n",
       "      <td>Asia</td>\n",
       "      <td>High School</td>\n",
       "      <td>N</td>\n",
       "      <td>N</td>\n",
       "      <td>14513</td>\n",
       "      <td>2007</td>\n",
       "      <td>West</td>\n",
       "      <td>592.2029</td>\n",
       "      <td>Hour</td>\n",
       "      <td>Y</td>\n",
       "      <td>Denied</td>\n",
       "    </tr>\n",
       "    <tr>\n",
       "      <th>1</th>\n",
       "      <td>EZYV02</td>\n",
       "      <td>Asia</td>\n",
       "      <td>Master's</td>\n",
       "      <td>Y</td>\n",
       "      <td>N</td>\n",
       "      <td>2412</td>\n",
       "      <td>2002</td>\n",
       "      <td>Northeast</td>\n",
       "      <td>83425.6500</td>\n",
       "      <td>Year</td>\n",
       "      <td>Y</td>\n",
       "      <td>Certified</td>\n",
       "    </tr>\n",
       "    <tr>\n",
       "      <th>2</th>\n",
       "      <td>EZYV03</td>\n",
       "      <td>Asia</td>\n",
       "      <td>Bachelor's</td>\n",
       "      <td>N</td>\n",
       "      <td>Y</td>\n",
       "      <td>44444</td>\n",
       "      <td>2008</td>\n",
       "      <td>West</td>\n",
       "      <td>122996.8600</td>\n",
       "      <td>Year</td>\n",
       "      <td>Y</td>\n",
       "      <td>Denied</td>\n",
       "    </tr>\n",
       "    <tr>\n",
       "      <th>3</th>\n",
       "      <td>EZYV04</td>\n",
       "      <td>Asia</td>\n",
       "      <td>Bachelor's</td>\n",
       "      <td>N</td>\n",
       "      <td>N</td>\n",
       "      <td>98</td>\n",
       "      <td>1897</td>\n",
       "      <td>West</td>\n",
       "      <td>83434.0300</td>\n",
       "      <td>Year</td>\n",
       "      <td>Y</td>\n",
       "      <td>Denied</td>\n",
       "    </tr>\n",
       "    <tr>\n",
       "      <th>4</th>\n",
       "      <td>EZYV05</td>\n",
       "      <td>Africa</td>\n",
       "      <td>Master's</td>\n",
       "      <td>Y</td>\n",
       "      <td>N</td>\n",
       "      <td>1082</td>\n",
       "      <td>2005</td>\n",
       "      <td>South</td>\n",
       "      <td>149907.3900</td>\n",
       "      <td>Year</td>\n",
       "      <td>Y</td>\n",
       "      <td>Certified</td>\n",
       "    </tr>\n",
       "  </tbody>\n",
       "</table>\n",
       "</div>"
      ],
      "text/plain": [
       "  case_id continent education_of_employee has_job_experience  \\\n",
       "0  EZYV01      Asia           High School                  N   \n",
       "1  EZYV02      Asia              Master's                  Y   \n",
       "2  EZYV03      Asia            Bachelor's                  N   \n",
       "3  EZYV04      Asia            Bachelor's                  N   \n",
       "4  EZYV05    Africa              Master's                  Y   \n",
       "\n",
       "  requires_job_training  no_of_employees  yr_of_estab region_of_employment  \\\n",
       "0                     N            14513         2007                 West   \n",
       "1                     N             2412         2002            Northeast   \n",
       "2                     Y            44444         2008                 West   \n",
       "3                     N               98         1897                 West   \n",
       "4                     N             1082         2005                South   \n",
       "\n",
       "   prevailing_wage unit_of_wage full_time_position case_status  \n",
       "0         592.2029         Hour                  Y      Denied  \n",
       "1       83425.6500         Year                  Y   Certified  \n",
       "2      122996.8600         Year                  Y      Denied  \n",
       "3       83434.0300         Year                  Y      Denied  \n",
       "4      149907.3900         Year                  Y   Certified  "
      ]
     },
     "execution_count": 8,
     "metadata": {},
     "output_type": "execute_result"
    }
   ],
   "source": [
    "visa_df = pd.read_csv(r\"C:\\Users\\D.JYOTSNA\\OneDrive\\Documents\\Full Stack Data Science\\2. DataFiles\\Visadataset.csv\")\n",
    "visa_df.head()"
   ]
  },
  {
   "cell_type": "code",
   "execution_count": 10,
   "id": "d0cb253b-c151-45ed-a813-23b462b3e8bb",
   "metadata": {},
   "outputs": [],
   "source": [
    "cat = visa_df.select_dtypes(include = 'object').columns\n",
    "num = visa_df.select_dtypes(exclude = 'object').columns"
   ]
  },
  {
   "cell_type": "code",
   "execution_count": null,
   "id": "055a64c7-ff76-4636-a461-ed1d1c640241",
   "metadata": {},
   "outputs": [],
   "source": []
  },
  {
   "cell_type": "markdown",
   "id": "f0d1c7e2-305b-466b-bd9e-088526b390e8",
   "metadata": {},
   "source": [
    "- Scaling is the one of the most important step before model development\n",
    "\n",
    "- Scaling means make all the columns under one scale\n",
    "\n",
    "- Scaling used to make all the columns or features comparable\n",
    "\n",
    "- Some ML models works on Distance Methods\n",
    "\n",
    "    - Example : age_min = 0, age_max = 100\n",
    "\n",
    "    - Income might be lakhs, crores so much bigger values\n",
    "\n",
    "    - If we dont make age and income under one scale ML models treats income is the Important Variable\n",
    "\n",
    "    - When values are huge, maths makes more complex so it is better to do lower down the values\n",
    "\n",
    "    - All the features under onescale, so easy to compare\n",
    "\n",
    "        - For Example : Dollars and Rupees (We cannot compare because 2 are different scales)\n"
   ]
  },
  {
   "cell_type": "code",
   "execution_count": null,
   "id": "2ce37007-7411-41e4-9134-a0c0317eca9f",
   "metadata": {},
   "outputs": [],
   "source": []
  },
  {
   "cell_type": "markdown",
   "id": "782b0359-64bc-4ba8-92d3-b6a25cb92098",
   "metadata": {},
   "source": [
    "# Standard Scalar"
   ]
  },
  {
   "cell_type": "markdown",
   "id": "a0b27a51-d40b-4321-9967-96b26b7dbb00",
   "metadata": {},
   "source": [
    "- Also called z-scale\n",
    "\n",
    "- Makes always mean = 0\n",
    "\n",
    "- Makes always Standard Deviation = 1"
   ]
  },
  {
   "cell_type": "markdown",
   "id": "74f4298e-ed88-467f-b9cc-1c66de5aeae2",
   "metadata": {},
   "source": [
    "<img src=\"https://journaldev.nyc3.cdn.digitaloceanspaces.com/2020/10/Standardization.png\" jsaction=\"\" class=\"sFlh5c FyHeAf iPVvYb\" style=\"max-width: 361px; height: 171px; margin: 132px 0px; width: 393px;\" alt=\"Using StandardScaler() Function to Standardize Python Data | DigitalOcean\" jsname=\"kn3ccd\">"
   ]
  },
  {
   "cell_type": "markdown",
   "id": "3e848aed-8dd3-4fd3-8c41-1a1cb5a68310",
   "metadata": {},
   "source": [
    "## Steps in python "
   ]
  },
  {
   "cell_type": "markdown",
   "id": "12ad4e62-0f5b-4b15-a9c4-a695d2fe1485",
   "metadata": {},
   "source": [
    "- Step1 : x = Prevailing wage\n",
    "\n",
    "- Step2 : mean = mean of prevailing wage\n",
    "\n",
    "- Step3 : std = std of prevailing wage\n",
    "\n",
    "- step4 : step1 - step2\n",
    "\n",
    "- step5 : step4 / step3"
   ]
  },
  {
   "cell_type": "code",
   "execution_count": 20,
   "id": "b9ec45e0-ab3a-4430-8bf2-2c60a0114bc7",
   "metadata": {},
   "outputs": [
    {
     "data": {
      "text/plain": [
       "0       -1.398537\n",
       "1        0.169835\n",
       "2        0.919079\n",
       "3        0.169994\n",
       "4        1.428604\n",
       "           ...   \n",
       "25475    0.049925\n",
       "25476    3.876159\n",
       "25477    1.360280\n",
       "25478    0.221509\n",
       "25479   -0.067763\n",
       "Name: prevailing_wage, Length: 25480, dtype: float64"
      ]
     },
     "execution_count": 20,
     "metadata": {},
     "output_type": "execute_result"
    }
   ],
   "source": [
    "x = visa_df['prevailing_wage']\n",
    "mean = round(np.mean(x),2)\n",
    "std = round(np.std(x),2)\n",
    "num = x - mean\n",
    "z_scale = num / std\n",
    "z_scale"
   ]
  },
  {
   "cell_type": "code",
   "execution_count": 24,
   "id": "fbd31081-e35a-4c6d-9c1e-a851022c17f9",
   "metadata": {},
   "outputs": [
    {
     "data": {
      "text/plain": [
       "(8.694688373123115e-08, 1.0000195461257795)"
      ]
     },
     "execution_count": 24,
     "metadata": {},
     "output_type": "execute_result"
    }
   ],
   "source": [
    "z_scale.mean(),z_scale.std()"
   ]
  },
  {
   "cell_type": "code",
   "execution_count": 32,
   "id": "7c0ba8c5-3c4e-4565-84af-10e232db002a",
   "metadata": {},
   "outputs": [
    {
     "data": {
      "text/plain": [
       "(0, 1)"
      ]
     },
     "execution_count": 32,
     "metadata": {},
     "output_type": "execute_result"
    }
   ],
   "source": [
    "int(8.694688373123115e-08),int(1.0000195461257795)"
   ]
  },
  {
   "cell_type": "code",
   "execution_count": 34,
   "id": "365a18c1-2141-4f55-81b6-cec3c1516642",
   "metadata": {},
   "outputs": [
    {
     "data": {
      "image/png": "[encoded data removed]",
      "text/plain": [
       "<Figure size 2000x800 with 2 Axes>"
      ]
     },
     "metadata": {},
     "output_type": "display_data"
    }
   ],
   "source": [
    "plt.figure(figsize = (20,8))\n",
    "plt.subplot(1,2,1).hist(visa_df['prevailing_wage'])\n",
    "plt.subplot(1,2,2).hist(z_scale)\n",
    "plt.show()"
   ]
  },
  {
   "cell_type": "code",
   "execution_count": null,
   "id": "1782c67e-5f14-4133-9ccd-b5f07db5c778",
   "metadata": {},
   "outputs": [],
   "source": []
  },
  {
   "cell_type": "markdown",
   "id": "d6a42594-5005-48c0-ba2d-9f8d0b31c7db",
   "metadata": {},
   "source": [
    "## Using Package"
   ]
  },
  {
   "cell_type": "code",
   "execution_count": 44,
   "id": "b9c2102e-6c0e-43bb-ba94-0bbb5415819b",
   "metadata": {},
   "outputs": [
    {
     "data": {
      "text/plain": [
       "array([[-1.39853722],\n",
       "       [ 0.1698353 ],\n",
       "       [ 0.91907852],\n",
       "       ...,\n",
       "       [ 1.36027953],\n",
       "       [ 0.22150859],\n",
       "       [-0.06776315]])"
      ]
     },
     "execution_count": 44,
     "metadata": {},
     "output_type": "execute_result"
    }
   ],
   "source": [
    "from sklearn.preprocessing import StandardScaler\n",
    "wage_data = visa_df[['prevailing_wage']]\n",
    "ss = StandardScaler()\n",
    "wage_ss = ss.fit_transform(wage_data)\n",
    "wage_ss"
   ]
  },
  {
   "cell_type": "code",
   "execution_count": 46,
   "id": "3dbd0d01-caf8-4f6e-b3cb-aa2af1d85955",
   "metadata": {},
   "outputs": [
    {
     "data": {
      "text/plain": [
       "(array([6038., 5504., 5681., 4551., 2334.,  624.,  373.,  240.,  114.,\n",
       "          21.]),\n",
       " array([-1.40970956, -0.80531933, -0.20092909,  0.40346114,  1.00785137,\n",
       "         1.61224161,  2.21663184,  2.82102207,  3.42541231,  4.02980254,\n",
       "         4.63419278]),\n",
       " <BarContainer object of 10 artists>)"
      ]
     },
     "execution_count": 46,
     "metadata": {},
     "output_type": "execute_result"
    },
    {
     "data": {
      "image/png": "[encoded data removed]",
      "text/plain": [
       "<Figure size 640x480 with 1 Axes>"
      ]
     },
     "metadata": {},
     "output_type": "display_data"
    }
   ],
   "source": [
    "plt.hist(wage_ss)"
   ]
  },
  {
   "cell_type": "code",
   "execution_count": null,
   "id": "b76cade0-2172-4734-9880-b46767fc7927",
   "metadata": {},
   "outputs": [],
   "source": []
  },
  {
   "cell_type": "code",
   "execution_count": null,
   "id": "79deb0ee-909f-4a45-81c4-8538f23d4de8",
   "metadata": {},
   "outputs": [],
   "source": []
  },
  {
   "cell_type": "markdown",
   "id": "08d36fd6-5813-47f2-992d-d9c68dbd9a3a",
   "metadata": {},
   "source": [
    "# MinMaxScaler"
   ]
  },
  {
   "cell_type": "markdown",
   "id": "73bdba2f-b423-46fc-91cb-b8f2736acda3",
   "metadata": {},
   "source": [
    "<img src=\"https://miro.medium.com/v2/0*jLXgL0vdAo43ua0P.jpg\" jsaction=\"\" class=\"sFlh5c FyHeAf iPVvYb\" style=\"max-width: 521px; height: 130px; margin: 152.5px 0px; width: 432px;\" alt=\"Feature Scaling with Scikit-Learn for Data Science | by Hasan Ersan YAĞCI |  Medium\" jsname=\"kn3ccd\">"
   ]
  },
  {
   "cell_type": "code",
   "execution_count": 51,
   "id": "9fb6a7ec-161f-4720-bd64-8f7edac79730",
   "metadata": {},
   "outputs": [
    {
     "data": {
      "text/plain": [
       "array([[0.00184853],\n",
       "       [0.2613452 ],\n",
       "       [0.385312  ],\n",
       "       ...,\n",
       "       [0.45831136],\n",
       "       [0.26989486],\n",
       "       [0.22203311]])"
      ]
     },
     "execution_count": 51,
     "metadata": {},
     "output_type": "execute_result"
    }
   ],
   "source": [
    "from sklearn.preprocessing import MinMaxScaler\n",
    "wage_data = visa_df[['prevailing_wage']]\n",
    "scaler = MinMaxScaler()\n",
    "mm_wage = scaler.fit_transform(wage_data)\n",
    "mm_wage"
   ]
  },
  {
   "cell_type": "code",
   "execution_count": 53,
   "id": "7eb6cbf9-b9c7-4356-920a-ac10dad0279e",
   "metadata": {},
   "outputs": [
    {
     "data": {
      "text/plain": [
       "(array([6038., 5504., 5681., 4551., 2334.,  624.,  373.,  240.,  114.,\n",
       "          21.]),\n",
       " array([0. , 0.1, 0.2, 0.3, 0.4, 0.5, 0.6, 0.7, 0.8, 0.9, 1. ]),\n",
       " <BarContainer object of 10 artists>)"
      ]
     },
     "execution_count": 53,
     "metadata": {},
     "output_type": "execute_result"
    },
    {
     "data": {
      "image/png": "[encoded data removed]",
      "text/plain": [
       "<Figure size 640x480 with 1 Axes>"
      ]
     },
     "metadata": {},
     "output_type": "display_data"
    }
   ],
   "source": [
    "plt.hist(mm_wage)"
   ]
  },
  {
   "cell_type": "code",
   "execution_count": 69,
   "id": "2bf1dede-0e53-4144-8f78-d6d5dc3bed52",
   "metadata": {},
   "outputs": [
    {
     "data": {
      "text/plain": [
       "(array([6038., 5504., 5681., 4551., 2334.,  624.,  373.,  240.,  114.,\n",
       "          21.]),\n",
       " array([0. , 0.1, 0.2, 0.3, 0.4, 0.5, 0.6, 0.7, 0.8, 0.9, 1. ]),\n",
       " <BarContainer object of 10 artists>)"
      ]
     },
     "execution_count": 69,
     "metadata": {},
     "output_type": "execute_result"
    },
    {
     "data": {
      "image/png": "[encoded data removed]",
      "text/plain": [
       "<Figure size 640x480 with 1 Axes>"
      ]
     },
     "metadata": {},
     "output_type": "display_data"
    }
   ],
   "source": [
    "x = visa_df['prevailing_wage']\n",
    "x_min = x.min()\n",
    "x_max = x.max()\n",
    "num = x - x_min\n",
    "den = x_max - x_min\n",
    "mm = num/den\n",
    "plt.hist(mm)"
   ]
  },
  {
   "cell_type": "code",
   "execution_count": 71,
   "id": "95b68f1e-35ba-4c60-a86a-55465b6976c3",
   "metadata": {},
   "outputs": [
    {
     "data": {
      "text/plain": [
       "(0.0, 1.0)"
      ]
     },
     "execution_count": 71,
     "metadata": {},
     "output_type": "execute_result"
    }
   ],
   "source": [
    "mm.min(),mm.max()"
   ]
  },
  {
   "cell_type": "code",
   "execution_count": null,
   "id": "4ee8e575-86bc-456e-bfe4-cc4a48a7d31d",
   "metadata": {},
   "outputs": [],
   "source": []
  }
 ],
 "metadata": {
  "kernelspec": {
   "display_name": "Python [conda env:base] *",
   "language": "python",
   "name": "conda-base-py"
  },
  "language_info": {
   "codemirror_mode": {
    "name": "ipython",
    "version": 3
   },
   "file_extension": ".py",
   "mimetype": "text/x-python",
   "name": "python",
   "nbconvert_exporter": "python",
   "pygments_lexer": "ipython3",
   "version": "3.12.7"
  }
 },
 "nbformat": 4,
 "nbformat_minor": 5
}
