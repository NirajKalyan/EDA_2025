{
 "cells": [
  {
   "cell_type": "markdown",
   "id": "834741b5-3ae2-4c21-bc90-1526ab5b275f",
   "metadata": {},
   "source": [
    "### 1. Import all Packages"
   ]
  },
  {
   "cell_type": "code",
   "execution_count": 3,
   "id": "d306c9ee-12c4-46b1-b134-43e40c292192",
   "metadata": {},
   "outputs": [],
   "source": [
    "import numpy as np\n",
    "import pandas as pd\n",
    "import matplotlib.pyplot as plt\n",
    "import seaborn as sns"
   ]
  },
  {
   "cell_type": "code",
   "execution_count": null,
   "id": "0d894260-fd8a-48a7-a3ae-e162ce1f1a49",
   "metadata": {},
   "outputs": [],
   "source": []
  },
  {
   "cell_type": "markdown",
   "id": "314ca74b-59e8-49f1-a423-3b90c5727eb0",
   "metadata": {},
   "source": [
    "### 2. Read the data"
   ]
  },
  {
   "cell_type": "code",
   "execution_count": 9,
   "id": "bbff87eb-e3f0-4170-9dd7-b9db04b7ae9d",
   "metadata": {},
   "outputs": [
    {
     "data": {
      "text/html": [
       "<div>\n",
       "<style scoped>\n",
       "    .dataframe tbody tr th:only-of-type {\n",
       "        vertical-align: middle;\n",
       "    }\n",
       "\n",
       "    .dataframe tbody tr th {\n",
       "        vertical-align: top;\n",
       "    }\n",
       "\n",
       "    .dataframe thead th {\n",
       "        text-align: right;\n",
       "    }\n",
       "</style>\n",
       "<table border=\"1\" class=\"dataframe\">\n",
       "  <thead>\n",
       "    <tr style=\"text-align: right;\">\n",
       "      <th></th>\n",
       "      <th>case_id</th>\n",
       "      <th>continent</th>\n",
       "      <th>education_of_employee</th>\n",
       "      <th>has_job_experience</th>\n",
       "      <th>requires_job_training</th>\n",
       "      <th>no_of_employees</th>\n",
       "      <th>yr_of_estab</th>\n",
       "      <th>region_of_employment</th>\n",
       "      <th>prevailing_wage</th>\n",
       "      <th>unit_of_wage</th>\n",
       "      <th>full_time_position</th>\n",
       "      <th>case_status</th>\n",
       "    </tr>\n",
       "  </thead>\n",
       "  <tbody>\n",
       "    <tr>\n",
       "      <th>0</th>\n",
       "      <td>EZYV01</td>\n",
       "      <td>Asia</td>\n",
       "      <td>High School</td>\n",
       "      <td>N</td>\n",
       "      <td>N</td>\n",
       "      <td>14513</td>\n",
       "      <td>2007</td>\n",
       "      <td>West</td>\n",
       "      <td>592.2029</td>\n",
       "      <td>Hour</td>\n",
       "      <td>Y</td>\n",
       "      <td>Denied</td>\n",
       "    </tr>\n",
       "    <tr>\n",
       "      <th>1</th>\n",
       "      <td>EZYV02</td>\n",
       "      <td>Asia</td>\n",
       "      <td>Master's</td>\n",
       "      <td>Y</td>\n",
       "      <td>N</td>\n",
       "      <td>2412</td>\n",
       "      <td>2002</td>\n",
       "      <td>Northeast</td>\n",
       "      <td>83425.6500</td>\n",
       "      <td>Year</td>\n",
       "      <td>Y</td>\n",
       "      <td>Certified</td>\n",
       "    </tr>\n",
       "    <tr>\n",
       "      <th>2</th>\n",
       "      <td>EZYV03</td>\n",
       "      <td>Asia</td>\n",
       "      <td>Bachelor's</td>\n",
       "      <td>N</td>\n",
       "      <td>Y</td>\n",
       "      <td>44444</td>\n",
       "      <td>2008</td>\n",
       "      <td>West</td>\n",
       "      <td>122996.8600</td>\n",
       "      <td>Year</td>\n",
       "      <td>Y</td>\n",
       "      <td>Denied</td>\n",
       "    </tr>\n",
       "    <tr>\n",
       "      <th>3</th>\n",
       "      <td>EZYV04</td>\n",
       "      <td>Asia</td>\n",
       "      <td>Bachelor's</td>\n",
       "      <td>N</td>\n",
       "      <td>N</td>\n",
       "      <td>98</td>\n",
       "      <td>1897</td>\n",
       "      <td>West</td>\n",
       "      <td>83434.0300</td>\n",
       "      <td>Year</td>\n",
       "      <td>Y</td>\n",
       "      <td>Denied</td>\n",
       "    </tr>\n",
       "    <tr>\n",
       "      <th>4</th>\n",
       "      <td>EZYV05</td>\n",
       "      <td>Africa</td>\n",
       "      <td>Master's</td>\n",
       "      <td>Y</td>\n",
       "      <td>N</td>\n",
       "      <td>1082</td>\n",
       "      <td>2005</td>\n",
       "      <td>South</td>\n",
       "      <td>149907.3900</td>\n",
       "      <td>Year</td>\n",
       "      <td>Y</td>\n",
       "      <td>Certified</td>\n",
       "    </tr>\n",
       "  </tbody>\n",
       "</table>\n",
       "</div>"
      ],
      "text/plain": [
       "  case_id continent education_of_employee has_job_experience  \\\n",
       "0  EZYV01      Asia           High School                  N   \n",
       "1  EZYV02      Asia              Master's                  Y   \n",
       "2  EZYV03      Asia            Bachelor's                  N   \n",
       "3  EZYV04      Asia            Bachelor's                  N   \n",
       "4  EZYV05    Africa              Master's                  Y   \n",
       "\n",
       "  requires_job_training  no_of_employees  yr_of_estab region_of_employment  \\\n",
       "0                     N            14513         2007                 West   \n",
       "1                     N             2412         2002            Northeast   \n",
       "2                     Y            44444         2008                 West   \n",
       "3                     N               98         1897                 West   \n",
       "4                     N             1082         2005                South   \n",
       "\n",
       "   prevailing_wage unit_of_wage full_time_position case_status  \n",
       "0         592.2029         Hour                  Y      Denied  \n",
       "1       83425.6500         Year                  Y   Certified  \n",
       "2      122996.8600         Year                  Y      Denied  \n",
       "3       83434.0300         Year                  Y      Denied  \n",
       "4      149907.3900         Year                  Y   Certified  "
      ]
     },
     "execution_count": 9,
     "metadata": {},
     "output_type": "execute_result"
    }
   ],
   "source": [
    "visa_df = pd.read_csv(r\"C:\\Users\\D.JYOTSNA\\OneDrive\\Documents\\Full Stack Data Science\\2. DataFiles\\Visadataset.csv\")\n",
    "visa_df."
   ]
  },
  {
   "cell_type": "code",
   "execution_count": null,
   "id": "bd0d3579-f4bc-47e7-9b27-223e026a2f02",
   "metadata": {},
   "outputs": [],
   "source": []
  },
  {
   "cell_type": "markdown",
   "id": "ce657f6a-343d-410a-8362-fb1372186ef3",
   "metadata": {},
   "source": [
    "### 3. Divide categorical and numerical columns"
   ]
  },
  {
   "cell_type": "code",
   "execution_count": 13,
   "id": "c0216a5c-b047-44e6-a9fb-87085064fa54",
   "metadata": {},
   "outputs": [
    {
     "data": {
      "text/plain": [
       "Index(['no_of_employees', 'yr_of_estab', 'prevailing_wage'], dtype='object')"
      ]
     },
     "execution_count": 13,
     "metadata": {},
     "output_type": "execute_result"
    }
   ],
   "source": [
    "cat = visa_df.select_dtypes(include = 'object').columns\n",
    "num = visa_df.select_dtypes(exclude = 'object').columns\n",
    "num"
   ]
  },
  {
   "cell_type": "code",
   "execution_count": null,
   "id": "9ceb5c60-db29-4bcc-bc14-2be18a8633fd",
   "metadata": {},
   "outputs": [],
   "source": []
  },
  {
   "cell_type": "markdown",
   "id": "8476490b-dd1b-46fe-87e6-d13b3fce42d1",
   "metadata": {},
   "source": [
    "## ========= Remember To Apply in Numerical Data Analysis ================="
   ]
  },
  {
   "cell_type": "markdown",
   "id": "5ba3d1ec-5739-40e5-91ef-a76acfd024da",
   "metadata": {},
   "source": [
    "- min\n",
    "\n",
    "- 25p\n",
    "\n",
    "- mean\n",
    "\n",
    "- median\n",
    "\n",
    "- 50p\n",
    "\n",
    "- 75p\n",
    "\n",
    "- max"
   ]
  },
  {
   "cell_type": "code",
   "execution_count": 19,
   "id": "3b999aa0-3a1a-4cf2-b03e-888fd906783e",
   "metadata": {},
   "outputs": [
    {
     "data": {
      "text/plain": [
       "0           592.2029\n",
       "1         83425.6500\n",
       "2        122996.8600\n",
       "3         83434.0300\n",
       "4        149907.3900\n",
       "            ...     \n",
       "25475     77092.5700\n",
       "25476    279174.7900\n",
       "25477    146298.8500\n",
       "25478     86154.7700\n",
       "25479     70876.9100\n",
       "Name: prevailing_wage, Length: 25480, dtype: float64"
      ]
     },
     "execution_count": 19,
     "metadata": {},
     "output_type": "execute_result"
    }
   ],
   "source": [
    "wage_data = visa_df['prevailing_wage']\n",
    "wage_data"
   ]
  },
  {
   "cell_type": "code",
   "execution_count": 21,
   "id": "dd993e79-842b-40de-8373-17310ca3fe9b",
   "metadata": {},
   "outputs": [],
   "source": [
    "wage_count = len(wage_data)\n",
    "wage_min = np.min(wage_data)\n",
    "wage_max = np.max(wage_data)\n",
    "wage_mean = np.mean(wage_data)\n",
    "wage_median = np.median(wage_data)"
   ]
  },
  {
   "cell_type": "code",
   "execution_count": 25,
   "id": "34083106-3ef8-4026-8c56-ad087042dd54",
   "metadata": {},
   "outputs": [
    {
     "data": {
      "text/html": [
       "<div>\n",
       "<style scoped>\n",
       "    .dataframe tbody tr th:only-of-type {\n",
       "        vertical-align: middle;\n",
       "    }\n",
       "\n",
       "    .dataframe tbody tr th {\n",
       "        vertical-align: top;\n",
       "    }\n",
       "\n",
       "    .dataframe thead th {\n",
       "        text-align: right;\n",
       "    }\n",
       "</style>\n",
       "<table border=\"1\" class=\"dataframe\">\n",
       "  <thead>\n",
       "    <tr style=\"text-align: right;\">\n",
       "      <th></th>\n",
       "      <th>Prevailing Wage</th>\n",
       "    </tr>\n",
       "  </thead>\n",
       "  <tbody>\n",
       "    <tr>\n",
       "      <th>Count</th>\n",
       "      <td>25480.000000</td>\n",
       "    </tr>\n",
       "    <tr>\n",
       "      <th>Min</th>\n",
       "      <td>2.136700</td>\n",
       "    </tr>\n",
       "    <tr>\n",
       "      <th>Max</th>\n",
       "      <td>319210.270000</td>\n",
       "    </tr>\n",
       "    <tr>\n",
       "      <th>Mean</th>\n",
       "      <td>74455.814592</td>\n",
       "    </tr>\n",
       "    <tr>\n",
       "      <th>Median</th>\n",
       "      <td>70308.210000</td>\n",
       "    </tr>\n",
       "  </tbody>\n",
       "</table>\n",
       "</div>"
      ],
      "text/plain": [
       "        Prevailing Wage\n",
       "Count      25480.000000\n",
       "Min            2.136700\n",
       "Max       319210.270000\n",
       "Mean       74455.814592\n",
       "Median     70308.210000"
      ]
     },
     "execution_count": 25,
     "metadata": {},
     "output_type": "execute_result"
    }
   ],
   "source": [
    "a = [wage_count,wage_min,wage_max,wage_mean,wage_median]\n",
    "cols = ['Count','Min','Max','Mean','Median']\n",
    "pd.DataFrame(a,cols, columns = ['Prevailing Wage'] )"
   ]
  },
  {
   "cell_type": "code",
   "execution_count": null,
   "id": "189a0467-8ea8-4b8d-9c61-edf51500769d",
   "metadata": {},
   "outputs": [],
   "source": []
  },
  {
   "cell_type": "markdown",
   "id": "b8bf5fdb-e7a3-431b-a4bd-232f0c9ebffc",
   "metadata": {},
   "source": [
    "# Percentile and Quartile"
   ]
  },
  {
   "cell_type": "code",
   "execution_count": 29,
   "id": "2fbcb007-3b13-4fcd-a496-3fb702cbb2f9",
   "metadata": {},
   "outputs": [],
   "source": [
    "p_25 = np.percentile(wage_data,25)\n",
    "q_25 = np.quantile(wage_data,0.25)  # Ranges -1 to 1"
   ]
  },
  {
   "cell_type": "code",
   "execution_count": 31,
   "id": "f28a27e4-b894-4d26-9802-6da96236c879",
   "metadata": {},
   "outputs": [
    {
     "data": {
      "text/plain": [
       "(34015.479999999996, 34015.479999999996)"
      ]
     },
     "execution_count": 31,
     "metadata": {},
     "output_type": "execute_result"
    }
   ],
   "source": [
    "q_25,p_25"
   ]
  },
  {
   "cell_type": "code",
   "execution_count": 33,
   "id": "aa48b411-dd93-487e-afe4-9dd9f9777eb7",
   "metadata": {},
   "outputs": [],
   "source": [
    "wage_count = len(wage_data)\n",
    "wage_min = np.min(wage_data)\n",
    "wage_max = np.max(wage_data)\n",
    "wage_mean = np.mean(wage_data)\n",
    "wage_median = np.median(wage_data)\n",
    "p_25 = np.percentile(wage_data,25)\n",
    "p_50 = np.percentile(wage_count,50)\n",
    "p_75 = np.percentile(wage_data,75)"
   ]
  },
  {
   "cell_type": "code",
   "execution_count": 41,
   "id": "952668ff-7053-48ee-8087-ee89ee01e270",
   "metadata": {},
   "outputs": [
    {
     "data": {
      "text/plain": [
       "70308.21"
      ]
     },
     "execution_count": 41,
     "metadata": {},
     "output_type": "execute_result"
    }
   ],
   "source": [
    "quartile_50 = round(np.quantile(wage_data,0.5),2)\n",
    "quartile_50"
   ]
  },
  {
   "cell_type": "markdown",
   "id": "ed14aa6d-ed0a-4655-a2f6-58a3a8d47b57",
   "metadata": {},
   "source": [
    "### Observation :-\n",
    "\n",
    "- 50p = 70308\n",
    "\n",
    "- 50 percentage of data is less than 70308\n",
    "\n",
    "- 50 percentage of 25480 is less than 70308 wage\n",
    "\n",
    "- 12740 applicants are have wage less than 70308"
   ]
  },
  {
   "cell_type": "code",
   "execution_count": null,
   "id": "bf69e0de-1f27-4239-830c-4fa276e753d3",
   "metadata": {},
   "outputs": [],
   "source": []
  },
  {
   "cell_type": "code",
   "execution_count": 52,
   "id": "9ee95bca-ee7b-4fa5-80f8-b33ebc48d213",
   "metadata": {},
   "outputs": [
    {
     "data": {
      "text/html": [
       "<div>\n",
       "<style scoped>\n",
       "    .dataframe tbody tr th:only-of-type {\n",
       "        vertical-align: middle;\n",
       "    }\n",
       "\n",
       "    .dataframe tbody tr th {\n",
       "        vertical-align: top;\n",
       "    }\n",
       "\n",
       "    .dataframe thead th {\n",
       "        text-align: right;\n",
       "    }\n",
       "</style>\n",
       "<table border=\"1\" class=\"dataframe\">\n",
       "  <thead>\n",
       "    <tr style=\"text-align: right;\">\n",
       "      <th></th>\n",
       "      <th>case_id</th>\n",
       "      <th>continent</th>\n",
       "      <th>education_of_employee</th>\n",
       "      <th>has_job_experience</th>\n",
       "      <th>requires_job_training</th>\n",
       "      <th>no_of_employees</th>\n",
       "      <th>yr_of_estab</th>\n",
       "      <th>region_of_employment</th>\n",
       "      <th>prevailing_wage</th>\n",
       "      <th>unit_of_wage</th>\n",
       "      <th>full_time_position</th>\n",
       "      <th>case_status</th>\n",
       "    </tr>\n",
       "  </thead>\n",
       "  <tbody>\n",
       "    <tr>\n",
       "      <th>0</th>\n",
       "      <td>EZYV01</td>\n",
       "      <td>Asia</td>\n",
       "      <td>High School</td>\n",
       "      <td>N</td>\n",
       "      <td>N</td>\n",
       "      <td>14513</td>\n",
       "      <td>2007</td>\n",
       "      <td>West</td>\n",
       "      <td>592.2029</td>\n",
       "      <td>Hour</td>\n",
       "      <td>Y</td>\n",
       "      <td>Denied</td>\n",
       "    </tr>\n",
       "    <tr>\n",
       "      <th>6</th>\n",
       "      <td>EZYV07</td>\n",
       "      <td>Asia</td>\n",
       "      <td>Bachelor's</td>\n",
       "      <td>N</td>\n",
       "      <td>N</td>\n",
       "      <td>4985</td>\n",
       "      <td>1994</td>\n",
       "      <td>South</td>\n",
       "      <td>53635.3900</td>\n",
       "      <td>Year</td>\n",
       "      <td>Y</td>\n",
       "      <td>Certified</td>\n",
       "    </tr>\n",
       "    <tr>\n",
       "      <th>7</th>\n",
       "      <td>EZYV08</td>\n",
       "      <td>North America</td>\n",
       "      <td>Bachelor's</td>\n",
       "      <td>Y</td>\n",
       "      <td>N</td>\n",
       "      <td>3035</td>\n",
       "      <td>1924</td>\n",
       "      <td>West</td>\n",
       "      <td>418.2298</td>\n",
       "      <td>Hour</td>\n",
       "      <td>Y</td>\n",
       "      <td>Denied</td>\n",
       "    </tr>\n",
       "    <tr>\n",
       "      <th>9</th>\n",
       "      <td>EZYV10</td>\n",
       "      <td>Europe</td>\n",
       "      <td>Doctorate</td>\n",
       "      <td>Y</td>\n",
       "      <td>N</td>\n",
       "      <td>2251</td>\n",
       "      <td>1995</td>\n",
       "      <td>South</td>\n",
       "      <td>67514.7600</td>\n",
       "      <td>Year</td>\n",
       "      <td>Y</td>\n",
       "      <td>Certified</td>\n",
       "    </tr>\n",
       "    <tr>\n",
       "      <th>12</th>\n",
       "      <td>EZYV13</td>\n",
       "      <td>Asia</td>\n",
       "      <td>Bachelor's</td>\n",
       "      <td>Y</td>\n",
       "      <td>N</td>\n",
       "      <td>123876</td>\n",
       "      <td>1963</td>\n",
       "      <td>Northeast</td>\n",
       "      <td>28663.0500</td>\n",
       "      <td>Year</td>\n",
       "      <td>Y</td>\n",
       "      <td>Certified</td>\n",
       "    </tr>\n",
       "  </tbody>\n",
       "</table>\n",
       "</div>"
      ],
      "text/plain": [
       "   case_id      continent education_of_employee has_job_experience  \\\n",
       "0   EZYV01           Asia           High School                  N   \n",
       "6   EZYV07           Asia            Bachelor's                  N   \n",
       "7   EZYV08  North America            Bachelor's                  Y   \n",
       "9   EZYV10         Europe             Doctorate                  Y   \n",
       "12  EZYV13           Asia            Bachelor's                  Y   \n",
       "\n",
       "   requires_job_training  no_of_employees  yr_of_estab region_of_employment  \\\n",
       "0                      N            14513         2007                 West   \n",
       "6                      N             4985         1994                South   \n",
       "7                      N             3035         1924                 West   \n",
       "9                      N             2251         1995                South   \n",
       "12                     N           123876         1963            Northeast   \n",
       "\n",
       "    prevailing_wage unit_of_wage full_time_position case_status  \n",
       "0          592.2029         Hour                  Y      Denied  \n",
       "6        53635.3900         Year                  Y   Certified  \n",
       "7          418.2298         Hour                  Y      Denied  \n",
       "9        67514.7600         Year                  Y   Certified  \n",
       "12       28663.0500         Year                  Y   Certified  "
      ]
     },
     "execution_count": 52,
     "metadata": {},
     "output_type": "execute_result"
    }
   ],
   "source": [
    "num = visa_df.select_dtypes(exclude = 'object').columns\n",
    "wage_data = visa_df['prevailing_wage']\n",
    "p_50 = np.percentile(wage_data,50)\n",
    "con = wage_data < p_50\n",
    "visa_df[con].head()"
   ]
  },
  {
   "cell_type": "code",
   "execution_count": 56,
   "id": "b15b625b-cbb8-4a7d-ae58-bf3677e7c593",
   "metadata": {},
   "outputs": [
    {
     "data": {
      "text/html": [
       "<div>\n",
       "<style scoped>\n",
       "    .dataframe tbody tr th:only-of-type {\n",
       "        vertical-align: middle;\n",
       "    }\n",
       "\n",
       "    .dataframe tbody tr th {\n",
       "        vertical-align: top;\n",
       "    }\n",
       "\n",
       "    .dataframe thead th {\n",
       "        text-align: right;\n",
       "    }\n",
       "</style>\n",
       "<table border=\"1\" class=\"dataframe\">\n",
       "  <thead>\n",
       "    <tr style=\"text-align: right;\">\n",
       "      <th></th>\n",
       "      <th>Prevailing Wage</th>\n",
       "    </tr>\n",
       "  </thead>\n",
       "  <tbody>\n",
       "    <tr>\n",
       "      <th>Count</th>\n",
       "      <td>25480.000000</td>\n",
       "    </tr>\n",
       "    <tr>\n",
       "      <th>Min</th>\n",
       "      <td>2.136700</td>\n",
       "    </tr>\n",
       "    <tr>\n",
       "      <th>Max</th>\n",
       "      <td>319210.270000</td>\n",
       "    </tr>\n",
       "    <tr>\n",
       "      <th>Mean</th>\n",
       "      <td>74455.814592</td>\n",
       "    </tr>\n",
       "    <tr>\n",
       "      <th>Medina</th>\n",
       "      <td>70308.210000</td>\n",
       "    </tr>\n",
       "    <tr>\n",
       "      <th>25p</th>\n",
       "      <td>34015.480000</td>\n",
       "    </tr>\n",
       "    <tr>\n",
       "      <th>50p</th>\n",
       "      <td>25480.000000</td>\n",
       "    </tr>\n",
       "    <tr>\n",
       "      <th>75p</th>\n",
       "      <td>107735.512500</td>\n",
       "    </tr>\n",
       "  </tbody>\n",
       "</table>\n",
       "</div>"
      ],
      "text/plain": [
       "        Prevailing Wage\n",
       "Count      25480.000000\n",
       "Min            2.136700\n",
       "Max       319210.270000\n",
       "Mean       74455.814592\n",
       "Medina     70308.210000\n",
       "25p        34015.480000\n",
       "50p        25480.000000\n",
       "75p       107735.512500"
      ]
     },
     "execution_count": 56,
     "metadata": {},
     "output_type": "execute_result"
    }
   ],
   "source": [
    "wage_count = len(wage_data)\n",
    "wage_min = np.min(wage_data)\n",
    "wage_max = np.max(wage_data)\n",
    "wage_mean = np.mean(wage_data)\n",
    "wage_median = np.median(wage_data)\n",
    "p_25 = np.percentile(wage_data,25)\n",
    "p_50 = np.percentile(wage_count,50)\n",
    "p_75 = np.percentile(wage_data,75)\n",
    "\n",
    "a = [wage_count,wage_min,wage_max,wage_mean,wage_median,p_25,p_50,p_75]\n",
    "cols = ['Count','Min','Max','Mean','Medina','25p','50p','75p']\n",
    "pd.DataFrame(a,cols,columns = ['Prevailing Wage'])"
   ]
  },
  {
   "cell_type": "code",
   "execution_count": 70,
   "id": "4257e8e3-ea82-4195-a82e-426423baafc5",
   "metadata": {},
   "outputs": [
    {
     "data": {
      "text/html": [
       "<div>\n",
       "<style scoped>\n",
       "    .dataframe tbody tr th:only-of-type {\n",
       "        vertical-align: middle;\n",
       "    }\n",
       "\n",
       "    .dataframe tbody tr th {\n",
       "        vertical-align: top;\n",
       "    }\n",
       "\n",
       "    .dataframe thead th {\n",
       "        text-align: right;\n",
       "    }\n",
       "</style>\n",
       "<table border=\"1\" class=\"dataframe\">\n",
       "  <thead>\n",
       "    <tr style=\"text-align: right;\">\n",
       "      <th></th>\n",
       "      <th>no_of_employees</th>\n",
       "      <th>yr_of_estab</th>\n",
       "      <th>prevailing_wage</th>\n",
       "    </tr>\n",
       "  </thead>\n",
       "  <tbody>\n",
       "    <tr>\n",
       "      <th>Count</th>\n",
       "      <td>25480.00</td>\n",
       "      <td>25480.00</td>\n",
       "      <td>25480.00</td>\n",
       "    </tr>\n",
       "    <tr>\n",
       "      <th>Min</th>\n",
       "      <td>-26.00</td>\n",
       "      <td>1800.00</td>\n",
       "      <td>2.14</td>\n",
       "    </tr>\n",
       "    <tr>\n",
       "      <th>Max</th>\n",
       "      <td>602069.00</td>\n",
       "      <td>2016.00</td>\n",
       "      <td>319210.27</td>\n",
       "    </tr>\n",
       "    <tr>\n",
       "      <th>Mean</th>\n",
       "      <td>5667.04</td>\n",
       "      <td>1979.41</td>\n",
       "      <td>74455.81</td>\n",
       "    </tr>\n",
       "    <tr>\n",
       "      <th>Median</th>\n",
       "      <td>2109.00</td>\n",
       "      <td>1997.00</td>\n",
       "      <td>70308.21</td>\n",
       "    </tr>\n",
       "    <tr>\n",
       "      <th>25p</th>\n",
       "      <td>1022.00</td>\n",
       "      <td>1976.00</td>\n",
       "      <td>34015.48</td>\n",
       "    </tr>\n",
       "    <tr>\n",
       "      <th>50p</th>\n",
       "      <td>2109.00</td>\n",
       "      <td>1997.00</td>\n",
       "      <td>70308.21</td>\n",
       "    </tr>\n",
       "    <tr>\n",
       "      <th>75p</th>\n",
       "      <td>3504.00</td>\n",
       "      <td>2005.00</td>\n",
       "      <td>107735.51</td>\n",
       "    </tr>\n",
       "  </tbody>\n",
       "</table>\n",
       "</div>"
      ],
      "text/plain": [
       "        no_of_employees  yr_of_estab  prevailing_wage\n",
       "Count          25480.00     25480.00         25480.00\n",
       "Min              -26.00      1800.00             2.14\n",
       "Max           602069.00      2016.00        319210.27\n",
       "Mean            5667.04      1979.41         74455.81\n",
       "Median          2109.00      1997.00         70308.21\n",
       "25p             1022.00      1976.00         34015.48\n",
       "50p             2109.00      1997.00         70308.21\n",
       "75p             3504.00      2005.00        107735.51"
      ]
     },
     "execution_count": 70,
     "metadata": {},
     "output_type": "execute_result"
    }
   ],
   "source": [
    "num = visa_df.select_dtypes(exclude = 'object').columns\n",
    "a = []\n",
    "for i in num:\n",
    "    b = visa_df[i]\n",
    "    wage_count = len(b)\n",
    "    wage_min = round(np.min(b),2)\n",
    "    wage_max = round(np.max(b),2)\n",
    "    wage_mean = round(np.mean(b),2)\n",
    "    wage_median = round(np.median(b),2)\n",
    "    p_25 = round(np.percentile(b,25),2)\n",
    "    p_50 = round(np.percentile(b,50),2)\n",
    "    p_75 = round(np.percentile(b,75),2)\n",
    "    data = [wage_count,wage_min,wage_max,wage_mean,wage_median,p_25,p_50,p_75]\n",
    "    a.append(data)    \n",
    "\n",
    "cols = ['Count','Min','Max','Mean','Median','25p','50p','75p']\n",
    "pd.DataFrame(a,columns = cols, index = ['no_of_employees', 'yr_of_estab', 'prevailing_wage']).T"
   ]
  },
  {
   "cell_type": "code",
   "execution_count": null,
   "id": "858a2313-bed4-4ccc-bdea-34b6f29206a8",
   "metadata": {},
   "outputs": [],
   "source": []
  },
  {
   "cell_type": "markdown",
   "id": "5461b348-7f1e-4ba1-b0ce-fea7ee109775",
   "metadata": {},
   "source": [
    "# Describe"
   ]
  },
  {
   "cell_type": "code",
   "execution_count": 74,
   "id": "0626446a-1bdd-41cb-983d-104a6b24e57a",
   "metadata": {},
   "outputs": [
    {
     "data": {
      "text/html": [
       "<div>\n",
       "<style scoped>\n",
       "    .dataframe tbody tr th:only-of-type {\n",
       "        vertical-align: middle;\n",
       "    }\n",
       "\n",
       "    .dataframe tbody tr th {\n",
       "        vertical-align: top;\n",
       "    }\n",
       "\n",
       "    .dataframe thead th {\n",
       "        text-align: right;\n",
       "    }\n",
       "</style>\n",
       "<table border=\"1\" class=\"dataframe\">\n",
       "  <thead>\n",
       "    <tr style=\"text-align: right;\">\n",
       "      <th></th>\n",
       "      <th>no_of_employees</th>\n",
       "      <th>yr_of_estab</th>\n",
       "      <th>prevailing_wage</th>\n",
       "    </tr>\n",
       "  </thead>\n",
       "  <tbody>\n",
       "    <tr>\n",
       "      <th>count</th>\n",
       "      <td>25480.000000</td>\n",
       "      <td>25480.000000</td>\n",
       "      <td>25480.000000</td>\n",
       "    </tr>\n",
       "    <tr>\n",
       "      <th>mean</th>\n",
       "      <td>5667.043210</td>\n",
       "      <td>1979.409929</td>\n",
       "      <td>74455.814592</td>\n",
       "    </tr>\n",
       "    <tr>\n",
       "      <th>std</th>\n",
       "      <td>22877.928848</td>\n",
       "      <td>42.366929</td>\n",
       "      <td>52815.942327</td>\n",
       "    </tr>\n",
       "    <tr>\n",
       "      <th>min</th>\n",
       "      <td>-26.000000</td>\n",
       "      <td>1800.000000</td>\n",
       "      <td>2.136700</td>\n",
       "    </tr>\n",
       "    <tr>\n",
       "      <th>25%</th>\n",
       "      <td>1022.000000</td>\n",
       "      <td>1976.000000</td>\n",
       "      <td>34015.480000</td>\n",
       "    </tr>\n",
       "    <tr>\n",
       "      <th>50%</th>\n",
       "      <td>2109.000000</td>\n",
       "      <td>1997.000000</td>\n",
       "      <td>70308.210000</td>\n",
       "    </tr>\n",
       "    <tr>\n",
       "      <th>75%</th>\n",
       "      <td>3504.000000</td>\n",
       "      <td>2005.000000</td>\n",
       "      <td>107735.512500</td>\n",
       "    </tr>\n",
       "    <tr>\n",
       "      <th>max</th>\n",
       "      <td>602069.000000</td>\n",
       "      <td>2016.000000</td>\n",
       "      <td>319210.270000</td>\n",
       "    </tr>\n",
       "  </tbody>\n",
       "</table>\n",
       "</div>"
      ],
      "text/plain": [
       "       no_of_employees   yr_of_estab  prevailing_wage\n",
       "count     25480.000000  25480.000000     25480.000000\n",
       "mean       5667.043210   1979.409929     74455.814592\n",
       "std       22877.928848     42.366929     52815.942327\n",
       "min         -26.000000   1800.000000         2.136700\n",
       "25%        1022.000000   1976.000000     34015.480000\n",
       "50%        2109.000000   1997.000000     70308.210000\n",
       "75%        3504.000000   2005.000000    107735.512500\n",
       "max      602069.000000   2016.000000    319210.270000"
      ]
     },
     "execution_count": 74,
     "metadata": {},
     "output_type": "execute_result"
    }
   ],
   "source": [
    "visa_df.describe()"
   ]
  },
  {
   "cell_type": "code",
   "execution_count": null,
   "id": "3ccb1f8e-b6d9-464e-8f23-d8bbe68ddf0a",
   "metadata": {},
   "outputs": [],
   "source": []
  }
 ],
 "metadata": {
  "kernelspec": {
   "display_name": "Python [conda env:base] *",
   "language": "python",
   "name": "conda-base-py"
  },
  "language_info": {
   "codemirror_mode": {
    "name": "ipython",
    "version": 3
   },
   "file_extension": ".py",
   "mimetype": "text/x-python",
   "name": "python",
   "nbconvert_exporter": "python",
   "pygments_lexer": "ipython3",
   "version": "3.12.7"
  }
 },
 "nbformat": 4,
 "nbformat_minor": 5
}
