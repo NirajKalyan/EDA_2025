{
 "cells": [
  {
   "cell_type": "markdown",
   "id": "7e92b946-7024-4a71-9338-cb0e07c4835b",
   "metadata": {},
   "source": [
    "## 1. Import the Pacakges"
   ]
  },
  {
   "cell_type": "code",
   "execution_count": 2,
   "id": "80704e6e-87e0-44d2-b1c5-0c862956f58c",
   "metadata": {},
   "outputs": [],
   "source": [
    "import numpy as np\n",
    "import pandas as pd\n",
    "import matplotlib.pyplot as plt\n",
    "import seaborn as sns"
   ]
  },
  {
   "cell_type": "code",
   "execution_count": null,
   "id": "216b92e1-b7f1-4e1a-aafb-77f5d003daf6",
   "metadata": {},
   "outputs": [],
   "source": []
  },
  {
   "cell_type": "markdown",
   "id": "6e14b922-3419-49ed-b91e-8df562c23541",
   "metadata": {},
   "source": [
    "## 2. Read the Data"
   ]
  },
  {
   "cell_type": "code",
   "execution_count": 23,
   "id": "bb92cb32-e92b-4bba-881b-a23e81cf6974",
   "metadata": {},
   "outputs": [
    {
     "data": {
      "text/html": [
       "<div>\n",
       "<style scoped>\n",
       "    .dataframe tbody tr th:only-of-type {\n",
       "        vertical-align: middle;\n",
       "    }\n",
       "\n",
       "    .dataframe tbody tr th {\n",
       "        vertical-align: top;\n",
       "    }\n",
       "\n",
       "    .dataframe thead th {\n",
       "        text-align: right;\n",
       "    }\n",
       "</style>\n",
       "<table border=\"1\" class=\"dataframe\">\n",
       "  <thead>\n",
       "    <tr style=\"text-align: right;\">\n",
       "      <th></th>\n",
       "      <th>case_id</th>\n",
       "      <th>continent</th>\n",
       "      <th>education_of_employee</th>\n",
       "      <th>has_job_experience</th>\n",
       "      <th>requires_job_training</th>\n",
       "      <th>no_of_employees</th>\n",
       "      <th>yr_of_estab</th>\n",
       "      <th>region_of_employment</th>\n",
       "      <th>prevailing_wage</th>\n",
       "      <th>unit_of_wage</th>\n",
       "      <th>full_time_position</th>\n",
       "      <th>case_status</th>\n",
       "    </tr>\n",
       "  </thead>\n",
       "  <tbody>\n",
       "    <tr>\n",
       "      <th>0</th>\n",
       "      <td>EZYV01</td>\n",
       "      <td>Asia</td>\n",
       "      <td>High School</td>\n",
       "      <td>N</td>\n",
       "      <td>N</td>\n",
       "      <td>14513</td>\n",
       "      <td>2007</td>\n",
       "      <td>West</td>\n",
       "      <td>592.2029</td>\n",
       "      <td>Hour</td>\n",
       "      <td>Y</td>\n",
       "      <td>Denied</td>\n",
       "    </tr>\n",
       "    <tr>\n",
       "      <th>1</th>\n",
       "      <td>EZYV02</td>\n",
       "      <td>Asia</td>\n",
       "      <td>Master's</td>\n",
       "      <td>Y</td>\n",
       "      <td>N</td>\n",
       "      <td>2412</td>\n",
       "      <td>2002</td>\n",
       "      <td>Northeast</td>\n",
       "      <td>83425.6500</td>\n",
       "      <td>Year</td>\n",
       "      <td>Y</td>\n",
       "      <td>Certified</td>\n",
       "    </tr>\n",
       "    <tr>\n",
       "      <th>2</th>\n",
       "      <td>EZYV03</td>\n",
       "      <td>Asia</td>\n",
       "      <td>Bachelor's</td>\n",
       "      <td>N</td>\n",
       "      <td>Y</td>\n",
       "      <td>44444</td>\n",
       "      <td>2008</td>\n",
       "      <td>West</td>\n",
       "      <td>122996.8600</td>\n",
       "      <td>Year</td>\n",
       "      <td>Y</td>\n",
       "      <td>Denied</td>\n",
       "    </tr>\n",
       "    <tr>\n",
       "      <th>3</th>\n",
       "      <td>EZYV04</td>\n",
       "      <td>Asia</td>\n",
       "      <td>Bachelor's</td>\n",
       "      <td>N</td>\n",
       "      <td>N</td>\n",
       "      <td>98</td>\n",
       "      <td>1897</td>\n",
       "      <td>West</td>\n",
       "      <td>83434.0300</td>\n",
       "      <td>Year</td>\n",
       "      <td>Y</td>\n",
       "      <td>Denied</td>\n",
       "    </tr>\n",
       "    <tr>\n",
       "      <th>4</th>\n",
       "      <td>EZYV05</td>\n",
       "      <td>Africa</td>\n",
       "      <td>Master's</td>\n",
       "      <td>Y</td>\n",
       "      <td>N</td>\n",
       "      <td>1082</td>\n",
       "      <td>2005</td>\n",
       "      <td>South</td>\n",
       "      <td>149907.3900</td>\n",
       "      <td>Year</td>\n",
       "      <td>Y</td>\n",
       "      <td>Certified</td>\n",
       "    </tr>\n",
       "    <tr>\n",
       "      <th>...</th>\n",
       "      <td>...</td>\n",
       "      <td>...</td>\n",
       "      <td>...</td>\n",
       "      <td>...</td>\n",
       "      <td>...</td>\n",
       "      <td>...</td>\n",
       "      <td>...</td>\n",
       "      <td>...</td>\n",
       "      <td>...</td>\n",
       "      <td>...</td>\n",
       "      <td>...</td>\n",
       "      <td>...</td>\n",
       "    </tr>\n",
       "    <tr>\n",
       "      <th>25475</th>\n",
       "      <td>EZYV25476</td>\n",
       "      <td>Asia</td>\n",
       "      <td>Bachelor's</td>\n",
       "      <td>Y</td>\n",
       "      <td>Y</td>\n",
       "      <td>2601</td>\n",
       "      <td>2008</td>\n",
       "      <td>South</td>\n",
       "      <td>77092.5700</td>\n",
       "      <td>Year</td>\n",
       "      <td>Y</td>\n",
       "      <td>Certified</td>\n",
       "    </tr>\n",
       "    <tr>\n",
       "      <th>25476</th>\n",
       "      <td>EZYV25477</td>\n",
       "      <td>Asia</td>\n",
       "      <td>High School</td>\n",
       "      <td>Y</td>\n",
       "      <td>N</td>\n",
       "      <td>3274</td>\n",
       "      <td>2006</td>\n",
       "      <td>Northeast</td>\n",
       "      <td>279174.7900</td>\n",
       "      <td>Year</td>\n",
       "      <td>Y</td>\n",
       "      <td>Certified</td>\n",
       "    </tr>\n",
       "    <tr>\n",
       "      <th>25477</th>\n",
       "      <td>EZYV25478</td>\n",
       "      <td>Asia</td>\n",
       "      <td>Master's</td>\n",
       "      <td>Y</td>\n",
       "      <td>N</td>\n",
       "      <td>1121</td>\n",
       "      <td>1910</td>\n",
       "      <td>South</td>\n",
       "      <td>146298.8500</td>\n",
       "      <td>Year</td>\n",
       "      <td>N</td>\n",
       "      <td>Certified</td>\n",
       "    </tr>\n",
       "    <tr>\n",
       "      <th>25478</th>\n",
       "      <td>EZYV25479</td>\n",
       "      <td>Asia</td>\n",
       "      <td>Master's</td>\n",
       "      <td>Y</td>\n",
       "      <td>Y</td>\n",
       "      <td>1918</td>\n",
       "      <td>1887</td>\n",
       "      <td>West</td>\n",
       "      <td>86154.7700</td>\n",
       "      <td>Year</td>\n",
       "      <td>Y</td>\n",
       "      <td>Certified</td>\n",
       "    </tr>\n",
       "    <tr>\n",
       "      <th>25479</th>\n",
       "      <td>EZYV25480</td>\n",
       "      <td>Asia</td>\n",
       "      <td>Bachelor's</td>\n",
       "      <td>Y</td>\n",
       "      <td>N</td>\n",
       "      <td>3195</td>\n",
       "      <td>1960</td>\n",
       "      <td>Midwest</td>\n",
       "      <td>70876.9100</td>\n",
       "      <td>Year</td>\n",
       "      <td>Y</td>\n",
       "      <td>Certified</td>\n",
       "    </tr>\n",
       "  </tbody>\n",
       "</table>\n",
       "<p>25480 rows × 12 columns</p>\n",
       "</div>"
      ],
      "text/plain": [
       "         case_id continent education_of_employee has_job_experience  \\\n",
       "0         EZYV01      Asia           High School                  N   \n",
       "1         EZYV02      Asia              Master's                  Y   \n",
       "2         EZYV03      Asia            Bachelor's                  N   \n",
       "3         EZYV04      Asia            Bachelor's                  N   \n",
       "4         EZYV05    Africa              Master's                  Y   \n",
       "...          ...       ...                   ...                ...   \n",
       "25475  EZYV25476      Asia            Bachelor's                  Y   \n",
       "25476  EZYV25477      Asia           High School                  Y   \n",
       "25477  EZYV25478      Asia              Master's                  Y   \n",
       "25478  EZYV25479      Asia              Master's                  Y   \n",
       "25479  EZYV25480      Asia            Bachelor's                  Y   \n",
       "\n",
       "      requires_job_training  no_of_employees  yr_of_estab  \\\n",
       "0                         N            14513         2007   \n",
       "1                         N             2412         2002   \n",
       "2                         Y            44444         2008   \n",
       "3                         N               98         1897   \n",
       "4                         N             1082         2005   \n",
       "...                     ...              ...          ...   \n",
       "25475                     Y             2601         2008   \n",
       "25476                     N             3274         2006   \n",
       "25477                     N             1121         1910   \n",
       "25478                     Y             1918         1887   \n",
       "25479                     N             3195         1960   \n",
       "\n",
       "      region_of_employment  prevailing_wage unit_of_wage full_time_position  \\\n",
       "0                     West         592.2029         Hour                  Y   \n",
       "1                Northeast       83425.6500         Year                  Y   \n",
       "2                     West      122996.8600         Year                  Y   \n",
       "3                     West       83434.0300         Year                  Y   \n",
       "4                    South      149907.3900         Year                  Y   \n",
       "...                    ...              ...          ...                ...   \n",
       "25475                South       77092.5700         Year                  Y   \n",
       "25476            Northeast      279174.7900         Year                  Y   \n",
       "25477                South      146298.8500         Year                  N   \n",
       "25478                 West       86154.7700         Year                  Y   \n",
       "25479              Midwest       70876.9100         Year                  Y   \n",
       "\n",
       "      case_status  \n",
       "0          Denied  \n",
       "1       Certified  \n",
       "2          Denied  \n",
       "3          Denied  \n",
       "4       Certified  \n",
       "...           ...  \n",
       "25475   Certified  \n",
       "25476   Certified  \n",
       "25477   Certified  \n",
       "25478   Certified  \n",
       "25479   Certified  \n",
       "\n",
       "[25480 rows x 12 columns]"
      ]
     },
     "execution_count": 23,
     "metadata": {},
     "output_type": "execute_result"
    }
   ],
   "source": [
    "visa_df = pd.read_csv(r\"C:\\Users\\D.JYOTSNA\\OneDrive\\Documents\\Full Stack Data Science\\2. DataFiles\\Visadataset.csv\")\n",
    "visa_df"
   ]
  },
  {
   "cell_type": "code",
   "execution_count": null,
   "id": "f8a5412d-658b-4cad-8941-3e3ae3a8227f",
   "metadata": {},
   "outputs": [],
   "source": []
  },
  {
   "cell_type": "markdown",
   "id": "c35b1207-b977-4c06-a5ab-06831503f391",
   "metadata": {},
   "source": [
    "## 3. Divide into numerical and categorical columns"
   ]
  },
  {
   "cell_type": "code",
   "execution_count": 15,
   "id": "3d2f5d02-fe5c-4795-8786-261ea439880e",
   "metadata": {},
   "outputs": [
    {
     "data": {
      "text/plain": [
       "Index(['no_of_employees', 'yr_of_estab', 'prevailing_wage'], dtype='object')"
      ]
     },
     "execution_count": 15,
     "metadata": {},
     "output_type": "execute_result"
    }
   ],
   "source": [
    "cat = visa_df.select_dtypes(include = 'object').columns\n",
    "num = visa_df.select_dtypes(exclude = 'object').columns\n",
    "num"
   ]
  },
  {
   "cell_type": "code",
   "execution_count": null,
   "id": "1b693129-63e7-424e-a84c-05884017dfa7",
   "metadata": {},
   "outputs": [],
   "source": []
  },
  {
   "cell_type": "markdown",
   "id": "a4e4671a-7012-48c1-ac5e-b2f34b32d6c8",
   "metadata": {},
   "source": [
    "# Histogram"
   ]
  },
  {
   "cell_type": "code",
   "execution_count": 17,
   "id": "d1294837-111f-4a5a-80b0-2ecac6b21d80",
   "metadata": {},
   "outputs": [],
   "source": [
    "wage_data = visa_df['prevailing_wage']"
   ]
  },
  {
   "cell_type": "markdown",
   "id": "6906d6ce-62b9-4f65-a93f-89cf3e62377a",
   "metadata": {},
   "source": [
    "<img src=\"https://builtin.com/sites/www.builtin.com/files/styles/ckeditor_optimize/public/inline-images/1_empirical-rule.jpg\" jsaction=\"\" class=\"sFlh5c FyHeAf iPVvYb\" style=\"max-width: 810px; height: 216px; margin: 109.5px 0px; width: 432px;\" alt=\"Empirical Rule (68-95-99.7) Explained | Built In\" jsname=\"kn3ccd\">"
   ]
  },
  {
   "cell_type": "markdown",
   "id": "b3c9fd0c-3ee5-47d5-9fba-260ff76a2c56",
   "metadata": {},
   "source": [
    "- u - 1sigma  to u + 1sigma ========= 68% data coverage"
   ]
  },
  {
   "cell_type": "code",
   "execution_count": 42,
   "id": "46ce7f32-ebad-4efe-8688-01597fc61111",
   "metadata": {},
   "outputs": [
    {
     "data": {
      "text/plain": [
       "17170"
      ]
     },
     "execution_count": 42,
     "metadata": {},
     "output_type": "execute_result"
    }
   ],
   "source": [
    "wage_mean = np.mean(wage_data)\n",
    "wage_std = np.std(wage_data)\n",
    "lb = wage_mean - 1 * wage_std\n",
    "up = wage_mean + 1 * wage_std\n",
    "con1 = wage_data > lb\n",
    "con2 = wage_data < up\n",
    "con = con1 & con2\n",
    "len(visa_df[con])"
   ]
  },
  {
   "cell_type": "code",
   "execution_count": 29,
   "id": "4659ca39-384b-43a5-818d-17d5138ea068",
   "metadata": {},
   "outputs": [
    {
     "data": {
      "text/plain": [
       "17326.4"
      ]
     },
     "execution_count": 29,
     "metadata": {},
     "output_type": "execute_result"
    }
   ],
   "source": [
    "68*25480/100"
   ]
  },
  {
   "cell_type": "markdown",
   "id": "aa0f6cd9-42f1-4769-ae48-b8c8216c8327",
   "metadata": {},
   "source": [
    "- the data is not normalized \n",
    "\n",
    "- outliers are there"
   ]
  },
  {
   "cell_type": "code",
   "execution_count": 46,
   "id": "9fefe1d6-ce4a-4c89-aa68-a65a806a4a41",
   "metadata": {},
   "outputs": [
    {
     "name": "stdout",
     "output_type": "stream",
     "text": [
      "25186 25403.56\n",
      "False\n"
     ]
    }
   ],
   "source": [
    "def Emperical_rule(d,k,n):\n",
    "    data = visa_df[d]\n",
    "    data_mean = np.mean(data)\n",
    "    data_std = np.std(data)\n",
    "    lb = data_mean - k * data_std\n",
    "    up = data_mean + k * data_std\n",
    "    con1 = data > lb\n",
    "    con2 = data < up\n",
    "    con = con1 & con2\n",
    "    print(len(visa_df[con]), n*len(visa_df)/100)\n",
    "    print(len(visa_df[con]) == n*len(visa_df)/100)\n",
    "Emperical_rule('prevailing_wage',3,99.7)"
   ]
  },
  {
   "cell_type": "code",
   "execution_count": 50,
   "id": "bf83c72e-cd6e-49c9-96f7-a1a64312190f",
   "metadata": {},
   "outputs": [
    {
     "data": {
      "image/png": "[encoded data removed]",
      "text/plain": [
       "<Figure size 640x480 with 1 Axes>"
      ]
     },
     "metadata": {},
     "output_type": "display_data"
    }
   ],
   "source": [
    "freq,interval,bins = plt.hist(wage_data, bins = 40)"
   ]
  },
  {
   "cell_type": "code",
   "execution_count": 52,
   "id": "b57a179b-f040-42ab-806d-4ea6955b0830",
   "metadata": {},
   "outputs": [
    {
     "data": {
      "text/plain": [
       "(array([2992.,  871., 1005., 1170., 1242., 1434., 1385., 1443., 1444.,\n",
       "        1445., 1457., 1335., 1268., 1217., 1088.,  978.,  807.,  645.,\n",
       "         509.,  373.,  264.,  144.,  105.,  111.,  107.,   99.,   88.,\n",
       "          79.,   65.,   64.,   58.,   53.,   33.,   33.,   29.,   19.,\n",
       "           7.,    3.,    6.,    5.]),\n",
       " array([2.13670000e+00, 7.98234003e+03, 1.59625434e+04, 2.39427467e+04,\n",
       "        3.19229500e+04, 3.99031534e+04, 4.78833567e+04, 5.58635600e+04,\n",
       "        6.38437634e+04, 7.18239667e+04, 7.98041700e+04, 8.77843734e+04,\n",
       "        9.57645767e+04, 1.03744780e+05, 1.11724983e+05, 1.19705187e+05,\n",
       "        1.27685390e+05, 1.35665593e+05, 1.43645797e+05, 1.51626000e+05,\n",
       "        1.59606203e+05, 1.67586407e+05, 1.75566610e+05, 1.83546813e+05,\n",
       "        1.91527017e+05, 1.99507220e+05, 2.07487423e+05, 2.15467627e+05,\n",
       "        2.23447830e+05, 2.31428033e+05, 2.39408237e+05, 2.47388440e+05,\n",
       "        2.55368643e+05, 2.63348847e+05, 2.71329050e+05, 2.79309253e+05,\n",
       "        2.87289457e+05, 2.95269660e+05, 3.03249863e+05, 3.11230067e+05,\n",
       "        3.19210270e+05]))"
      ]
     },
     "execution_count": 52,
     "metadata": {},
     "output_type": "execute_result"
    }
   ],
   "source": [
    "freq,interval"
   ]
  },
  {
   "cell_type": "code",
   "execution_count": 58,
   "id": "57893b1c-2757-441d-a39f-d32b67059053",
   "metadata": {},
   "outputs": [
    {
     "data": {
      "text/plain": [
       "2992"
      ]
     },
     "execution_count": 58,
     "metadata": {},
     "output_type": "execute_result"
    }
   ],
   "source": [
    "lb = 2.13670000e+00\n",
    "up = 7.98234003e+03\n",
    "con1 = wage_data >= lb\n",
    "con2 = wage_data < up\n",
    "con = con1 & con2\n",
    "len(visa_df[con])"
   ]
  },
  {
   "cell_type": "code",
   "execution_count": null,
   "id": "ec8d225f-6c32-4322-9a95-dfb01ee190e7",
   "metadata": {},
   "outputs": [],
   "source": []
  },
  {
   "cell_type": "markdown",
   "id": "ac040558-c589-4456-9e9a-d8847754638e",
   "metadata": {},
   "source": [
    "# Outlier Analysis"
   ]
  },
  {
   "cell_type": "markdown",
   "id": "d55aed18-8993-473c-afdf-61345bbe6843",
   "metadata": {},
   "source": [
    "### Box-Plot"
   ]
  },
  {
   "cell_type": "code",
   "execution_count": 67,
   "id": "e0c186c6-0f67-44ef-8d59-2c77c1219ca2",
   "metadata": {},
   "outputs": [
    {
     "data": {
      "image/png": "[encoded data removed]",
      "text/plain": [
       "<Figure size 640x480 with 1 Axes>"
      ]
     },
     "metadata": {},
     "output_type": "display_data"
    }
   ],
   "source": [
    "plt.boxplot(wage_data, vert = False)\n",
    "plt.show()"
   ]
  },
  {
   "cell_type": "code",
   "execution_count": 71,
   "id": "e697ab46-149e-48c6-9987-5f4483d50fcd",
   "metadata": {},
   "outputs": [
    {
     "data": {
      "image/png": "[encoded data removed]",
      "text/plain": [
       "<Figure size 640x480 with 2 Axes>"
      ]
     },
     "metadata": {},
     "output_type": "display_data"
    }
   ],
   "source": [
    "plt.subplot(2,1,1).hist(wage_data, bins = 40)\n",
    "plt.subplot(2,1,2).boxplot(wage_data, vert = False)\n",
    "plt.show()"
   ]
  },
  {
   "cell_type": "code",
   "execution_count": null,
   "id": "32999732-a6b4-4356-bef5-2fecc1ea5e8b",
   "metadata": {},
   "outputs": [],
   "source": []
  },
  {
   "cell_type": "markdown",
   "id": "fa05ce2f-16d0-47f6-8f88-8e44786fe635",
   "metadata": {},
   "source": [
    "## Outliers Data"
   ]
  },
  {
   "cell_type": "markdown",
   "id": "a12eb333-2ceb-498f-ad44-2c7c3943438e",
   "metadata": {},
   "source": [
    "\n",
    "          Q1-1.5IQR   Q1   median  Q3   Q3+1.5IQR\n",
    "                       |-----:-----|\n",
    "       o      |--------|     :     |--------|    o  o\n",
    "                       |-----:-----|\n",
    "     flier             <----------->            fliers\n",
    "                            IQR\n"
   ]
  },
  {
   "cell_type": "code",
   "execution_count": 78,
   "id": "ae7a953f-9271-48d9-b5ff-a168514a1f90",
   "metadata": {},
   "outputs": [
    {
     "data": {
      "text/plain": [
       "427"
      ]
     },
     "execution_count": 78,
     "metadata": {},
     "output_type": "execute_result"
    }
   ],
   "source": [
    "Q1 = np.percentile(wage_data,25)\n",
    "Q3 = np.percentile(wage_data,75)\n",
    "IQR = Q3 - Q1\n",
    "lb = Q1 - 1.5*IQR\n",
    "up = Q3 + 1.5*IQR\n",
    "con1 = wage_data < lb\n",
    "con2 = wage_data > up\n",
    "con = con1 | con2\n",
    "outliers_data = visa_df[con]\n",
    "len(outliers_data)"
   ]
  },
  {
   "cell_type": "code",
   "execution_count": 80,
   "id": "61e3f762-a1ec-4883-a007-a3207f96e25e",
   "metadata": {},
   "outputs": [
    {
     "data": {
      "text/plain": [
       "25053"
      ]
     },
     "execution_count": 80,
     "metadata": {},
     "output_type": "execute_result"
    }
   ],
   "source": [
    "Q1 = np.percentile(wage_data,25)\n",
    "Q3 = np.percentile(wage_data,75)\n",
    "IQR = Q3 - Q1\n",
    "lb = Q1 - 1.5*IQR\n",
    "up = Q3 + 1.5*IQR\n",
    "con1 = wage_data > lb\n",
    "con2 = wage_data < up\n",
    "con = con1 & con2\n",
    "non_outliers_data = visa_df[con]\n",
    "len(non_outliers_data)"
   ]
  },
  {
   "cell_type": "markdown",
   "id": "a0c1c54a-df41-44bc-9086-5dd5893969a9",
   "metadata": {},
   "source": [
    "- Non Outliers : 25053\n",
    "\n",
    "- Outliers : 427"
   ]
  },
  {
   "cell_type": "code",
   "execution_count": 95,
   "id": "5f735b9e-bba0-40d0-b4c8-4dbaf37038c1",
   "metadata": {},
   "outputs": [
    {
     "data": {
      "image/png": "[encoded data removed]",
      "text/plain": [
       "<Figure size 1500x800 with 4 Axes>"
      ]
     },
     "metadata": {},
     "output_type": "display_data"
    }
   ],
   "source": [
    "plt.figure(figsize = (15,8))\n",
    "plt.subplot(2,2,1).hist(visa_df['prevailing_wage'], bins = 40)\n",
    "plt.subplot(2,2,2).boxplot(visa_df['prevailing_wage'], vert = False)\n",
    "plt.subplot(2,2,3).hist(non_outliers_data['prevailing_wage'], bins = 40)\n",
    "plt.subplot(2,2,4).boxplot(non_outliers_data['prevailing_wage'], vert = False)\n",
    "plt.show()"
   ]
  },
  {
   "cell_type": "code",
   "execution_count": null,
   "id": "d08b0b6a-16d2-40fe-a9c1-3c5f04a4991e",
   "metadata": {},
   "outputs": [],
   "source": []
  },
  {
   "cell_type": "markdown",
   "id": "ca5b5da9-7605-482e-a7dc-da5bf93ae80a",
   "metadata": {},
   "source": [
    "# Outliers Imputations\n",
    "\n",
    "- Method - 1: cap (Winsorization)\n",
    "\n",
    "    - less than lb outliers impute with lb value\n",
    "\n",
    "    - greater than up outliers impute with up value\n",
    "\n",
    "- Method - 2: Every outlier replace with median"
   ]
  },
  {
   "cell_type": "code",
   "execution_count": null,
   "id": "e409373e-a4ac-47a7-98fc-bcfc47b99482",
   "metadata": {},
   "outputs": [],
   "source": []
  },
  {
   "cell_type": "markdown",
   "id": "1b259ce4-cffa-42b5-88eb-80d8acaad67f",
   "metadata": {},
   "source": [
    "## Method -1 : cap(Winsorization)"
   ]
  },
  {
   "cell_type": "code",
   "execution_count": 101,
   "id": "92673747-be53-4eea-ba2e-f46e133e3e38",
   "metadata": {},
   "outputs": [],
   "source": [
    "q1 = np.percentile(wage_data,25)\n",
    "q3 = np.percentile(wage_data,75)\n",
    "IQR = q3 - q1\n",
    "lb = q1 - 1.5*IQR\n",
    "up = q3 + 1.5*IQR"
   ]
  },
  {
   "cell_type": "code",
   "execution_count": 105,
   "id": "adf0d9b6-f0aa-41f6-8163-de34c49d7322",
   "metadata": {},
   "outputs": [],
   "source": [
    "l = []\n",
    "for i in wage_data:\n",
    "    if i < lb:\n",
    "        l.append(lb)\n",
    "    elif i > up:\n",
    "        l.append(up)\n",
    "    else:\n",
    "        l.append(i)       "
   ]
  },
  {
   "cell_type": "code",
   "execution_count": 109,
   "id": "5480ce53-2856-4355-9d2d-35af90357ca8",
   "metadata": {},
   "outputs": [
    {
     "data": {
      "image/png": "[encoded data removed]",
      "text/plain": [
       "<Figure size 640x480 with 1 Axes>"
      ]
     },
     "metadata": {},
     "output_type": "display_data"
    }
   ],
   "source": [
    "plt.boxplot(l, vert = False)\n",
    "plt.show()"
   ]
  },
  {
   "cell_type": "code",
   "execution_count": null,
   "id": "1a1532f6-93bb-4aff-a6dd-cd8a8d32165b",
   "metadata": {},
   "outputs": [],
   "source": []
  }
 ],
 "metadata": {
  "kernelspec": {
   "display_name": "Python [conda env:base] *",
   "language": "python",
   "name": "conda-base-py"
  },
  "language_info": {
   "codemirror_mode": {
    "name": "ipython",
    "version": 3
   },
   "file_extension": ".py",
   "mimetype": "text/x-python",
   "name": "python",
   "nbconvert_exporter": "python",
   "pygments_lexer": "ipython3",
   "version": "3.12.7"
  }
 },
 "nbformat": 4,
 "nbformat_minor": 5
}
